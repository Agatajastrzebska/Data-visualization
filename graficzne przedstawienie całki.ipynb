{
 "cells": [
  {
   "cell_type": "code",
   "execution_count": 1,
   "id": "d0cf229d",
   "metadata": {},
   "outputs": [],
   "source": [
    "import numpy as np\n",
    "import matplotlib.pyplot as plt\n",
    "import random\n",
    "import sympy"
   ]
  },
  {
   "cell_type": "code",
   "execution_count": null,
   "id": "5bf57f12",
   "metadata": {},
   "outputs": [],
   "source": []
  },
  {
   "cell_type": "code",
   "execution_count": 2,
   "id": "1c341b56",
   "metadata": {},
   "outputs": [],
   "source": [
    "x = np.linspace(0,20,1000)"
   ]
  },
  {
   "cell_type": "code",
   "execution_count": 3,
   "id": "34804679",
   "metadata": {},
   "outputs": [],
   "source": [
    "def f(x):\n",
    "    f = x**(1/2)\n",
    "    return f"
   ]
  },
  {
   "cell_type": "code",
   "execution_count": 4,
   "id": "8f736eed",
   "metadata": {},
   "outputs": [],
   "source": [
    "lp = random.randint(5,30)"
   ]
  },
  {
   "cell_type": "code",
   "execution_count": 5,
   "id": "a7235878",
   "metadata": {},
   "outputs": [],
   "source": [
    "t = sympy.Symbol('t')\n",
    "pole_dokł = sympy.integrate(t**(1/2), (t,0,6))"
   ]
  },
  {
   "cell_type": "code",
   "execution_count": 6,
   "id": "a3f0d572",
   "metadata": {},
   "outputs": [],
   "source": [
    "x1 = np.linspace(0,6,lp+1)"
   ]
  },
  {
   "cell_type": "code",
   "execution_count": 7,
   "id": "35a06345",
   "metadata": {},
   "outputs": [],
   "source": [
    "dl_prz = x1[1] - x1[0]"
   ]
  },
  {
   "cell_type": "code",
   "execution_count": 8,
   "id": "79ab2895",
   "metadata": {},
   "outputs": [],
   "source": [
    "lista_max_wart = []"
   ]
  },
  {
   "cell_type": "code",
   "execution_count": 9,
   "id": "e2a92f5b",
   "metadata": {},
   "outputs": [],
   "source": [
    "lista_min_wart = []"
   ]
  },
  {
   "cell_type": "code",
   "execution_count": 10,
   "id": "de2cfea1",
   "metadata": {},
   "outputs": [],
   "source": [
    "def maxsum(x1, dl_prz):    \n",
    "    pole = 0\n",
    "    for i in range(lp):\n",
    "        max_wart = max(f(x1[i]), f(x1[i+1]))\n",
    "        pole += max_wart * dl_prz \n",
    "    return pole"
   ]
  },
  {
   "cell_type": "code",
   "execution_count": 11,
   "id": "20d4fa3b",
   "metadata": {},
   "outputs": [],
   "source": [
    "def max_wart(x1):\n",
    "    for i in range(lp):\n",
    "        max_wart = max(f(x1[i]), f(x1[i+1]))\n",
    "        lista_max_wart.append(max_wart)\n",
    "    return lista_max_wart"
   ]
  },
  {
   "cell_type": "code",
   "execution_count": 12,
   "id": "4495cd59",
   "metadata": {},
   "outputs": [
    {
     "data": {
      "text/plain": [
       "[0.5619514869490163,\n",
       " 0.7947194142390263,\n",
       " 0.9733285267845752,\n",
       " 1.1239029738980326,\n",
       " 1.2565617248750864,\n",
       " 1.3764944032233706,\n",
       " 1.4867838833500562,\n",
       " 1.5894388284780525,\n",
       " 1.6858544608470492,\n",
       " 1.7770466332772772,\n",
       " 1.8637822325921867,\n",
       " 1.9466570535691503,\n",
       " 2.0261449005179113,\n",
       " 2.102629932151387,\n",
       " 2.176428750330035,\n",
       " 2.2478059477960652,\n",
       " 2.3169853371636986,\n",
       " 2.3841582427170787,\n",
       " 2.449489742783178]"
      ]
     },
     "execution_count": 12,
     "metadata": {},
     "output_type": "execute_result"
    }
   ],
   "source": [
    "max_wart(x1)"
   ]
  },
  {
   "cell_type": "code",
   "execution_count": 13,
   "id": "b691127e",
   "metadata": {},
   "outputs": [],
   "source": [
    "def min_wart(x1):\n",
    "    for i in range(lp):\n",
    "        min_wart = min(f(x1[i]), f(x1[i+1]))\n",
    "        lista_min_wart.append(min_wart)\n",
    "    return lista_min_wart"
   ]
  },
  {
   "cell_type": "code",
   "execution_count": 14,
   "id": "a95e54e4",
   "metadata": {},
   "outputs": [
    {
     "data": {
      "text/plain": [
       "[0.0,\n",
       " 0.5619514869490163,\n",
       " 0.7947194142390263,\n",
       " 0.9733285267845752,\n",
       " 1.1239029738980326,\n",
       " 1.2565617248750864,\n",
       " 1.3764944032233706,\n",
       " 1.4867838833500562,\n",
       " 1.5894388284780525,\n",
       " 1.6858544608470492,\n",
       " 1.7770466332772772,\n",
       " 1.8637822325921867,\n",
       " 1.9466570535691503,\n",
       " 2.0261449005179113,\n",
       " 2.102629932151387,\n",
       " 2.176428750330035,\n",
       " 2.2478059477960652,\n",
       " 2.3169853371636986,\n",
       " 2.3841582427170787]"
      ]
     },
     "execution_count": 14,
     "metadata": {},
     "output_type": "execute_result"
    }
   ],
   "source": [
    "min_wart(x1)"
   ]
  },
  {
   "cell_type": "code",
   "execution_count": 15,
   "id": "669340ac",
   "metadata": {},
   "outputs": [],
   "source": [
    "def minsum(x1, dl_prz):\n",
    "    pole = 0\n",
    "    for i in range(lp):\n",
    "        min_wart = min(f(x1[i]), f(x1[i+1]))\n",
    "        pole += min_wart * dl_prz \n",
    "    return pole"
   ]
  },
  {
   "cell_type": "code",
   "execution_count": 16,
   "id": "80d49d3c",
   "metadata": {},
   "outputs": [],
   "source": [
    "bar_dziedzina = [1/2 * dl_prz + i * dl_prz for i in range(lp)]"
   ]
  },
  {
   "cell_type": "code",
   "execution_count": 17,
   "id": "9cb1af17",
   "metadata": {},
   "outputs": [
    {
     "data": {
      "image/png": "[encoded data removed]",
      "text/plain": [
       "<Figure size 1000x600 with 3 Axes>"
      ]
     },
     "metadata": {},
     "output_type": "display_data"
    }
   ],
   "source": [
    "plt.subplots(1,3, sharey=True, figsize=(10,6))\n",
    "\n",
    "plt.subplot(131)\n",
    "plt.plot(x, f(x))\n",
    "plt.xlim([0,6])\n",
    "plt.xticks(np.arange(0, 7, 1))\n",
    "plt.ylim([0,3])\n",
    "plt.bar(bar_dziedzina, lista_max_wart, facecolor='y',alpha = 0.2, width=dl_prz, edgecolor=\"black\")\n",
    "plt.title('Suma lewa ≈ {:.2f}'.format(maxsum(x1, dl_prz)))\n",
    "plt.scatter(x1[1:], lista_max_wart, s=10, c='y', edgecolors='b')\n",
    "\n",
    "plt.subplot(132)\n",
    "plt.plot(x, f(x))\n",
    "plt.fill_between(x, f(x), facecolor='b', alpha = 0.2)\n",
    "plt.xlim([0,6])\n",
    "plt.xticks(np.arange(0, 7, 1))\n",
    "plt.text(0.6, 2.8, r\"$f(x) = \\sqrt{x}$\", fontsize=12, color=\"black\")\n",
    "\n",
    "plt.subplot(133)\n",
    "plt.plot(x, f(x))\n",
    "plt.xlim([0,6])\n",
    "plt.xticks(np.arange(0, 7, 1))\n",
    "plt.bar(bar_dziedzina, lista_min_wart, facecolor='y',alpha = 0.2, width=dl_prz, edgecolor=\"black\")\n",
    "plt.title('Suma prawa ≈ {:.2f}'.format(minsum(x1, dl_prz)))\n",
    "plt.scatter(x1[1:], lista_max_wart, s=10, c='y', edgecolors='b')\n",
    "\n",
    "plt.suptitle('Liczba przedziałów: {}\\n Pole wynosi ≈ {:.3f}'.format(lp, pole_dokł))\n",
    "plt.savefig(\"zad02_Agata_Jastrzebska_281633.pdf\")\n",
    "plt.show()"
   ]
  },
  {
   "cell_type": "code",
   "execution_count": null,
   "id": "8d476b9a",
   "metadata": {},
   "outputs": [],
   "source": []
  },
  {
   "cell_type": "code",
   "execution_count": null,
   "id": "98d2b0e6",
   "metadata": {},
   "outputs": [],
   "source": []
  },
  {
   "cell_type": "code",
   "execution_count": null,
   "id": "faa80b06",
   "metadata": {},
   "outputs": [],
   "source": []
  },
  {
   "cell_type": "code",
   "execution_count": null,
   "id": "d95b64af",
   "metadata": {},
   "outputs": [],
   "source": []
  }
 ],
 "metadata": {
  "kernelspec": {
   "display_name": "Python 3 (ipykernel)",
   "language": "python",
   "name": "python3"
  },
  "language_info": {
   "codemirror_mode": {
    "name": "ipython",
    "version": 3
   },
   "file_extension": ".py",
   "mimetype": "text/x-python",
   "name": "python",
   "nbconvert_exporter": "python",
   "pygments_lexer": "ipython3",
   "version": "3.11.5"
  }
 },
 "nbformat": 4,
 "nbformat_minor": 5
}
